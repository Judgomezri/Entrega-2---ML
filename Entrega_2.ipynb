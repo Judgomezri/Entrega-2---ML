{
  "nbformat": 4,
  "nbformat_minor": 0,
  "metadata": {
    "colab": {
      "name": "Entrega 2",
      "provenance": [],
      "collapsed_sections": [],
      "toc_visible": true
    },
    "kernelspec": {
      "name": "python3",
      "display_name": "Python 3"
    },
    "language_info": {
      "name": "python"
    }
  },
  "cells": [
    {
      "cell_type": "markdown",
      "metadata": {
        "id": "usM7mQ8IaOYX"
      },
      "source": [
        "# **Entrega 2 - Juan Daniel Gómez Rios.**\n",
        "---\n"
      ]
    },
    {
      "cell_type": "markdown",
      "metadata": {
        "id": "yYnq9Q7gaQuX"
      },
      "source": [
        "**Ejercicio 1.12**\n",
        "---\n",
        "---\n",
        "**Una amiga te busca por un problema de aprendizaje. Ella dice que la funcion de destino $f$ es $completamente$ desconocida, pero ella tiene 4,000 puntos de datos. Ella está dispuesta a pagarte para que resuelvas su problema y produzcas para ella una función $g$ que aproxime $f$. ¿Qué es lo mejor que puedes prometerle entre las siguientes opciones?**\n",
        "\\\n",
        "\\\n",
        "**($a$) Después del aprendizaje tú le darás una $g$ la cual garantizas que aproxima bien $f$ \"out of sample\".**\n",
        "\\\n",
        "\\\n",
        "**($b$)  Después del aprendizaje tú le darás una $g$ y con una alta probabilidad la $g$ que obtuviste aproximará bien $f$ \"out of sample\".**\n",
        "\\\n",
        "\\\n",
        "**($c$) Una de dos cosas sucederán:** \\\n",
        "**(i) Producirás una hipótesis $g$;** \\\n",
        "**(ii) Declararás que fallaste.** \\\n",
        "**Si tú entregas una hipótesis $g$, entonces, con alta probabilidad, $g$ aproximará bien $f$ \"out of sample\".** \\\n",
        "\\\n",
        "\\\n",
        "**RTA:** La cantidad de datos es bastante alta y dependiendo de la $f$ es bastante factible producir una $g$ que aproxime bien a $f$ pero también puede suceder que $f$ sea lo suficientemente compleja como para no poder producir una $g$. Por lo cual yo prometería la $c$."
      ]
    },
    {
      "cell_type": "markdown",
      "metadata": {
        "id": "h6dxivi6if1C"
      },
      "source": [
        "**Problema 1.2**\n",
        "---\n",
        "---\n",
        "**Considere el perceptrón en dos dimensiones: $h(x)=$sign$(w^Tx)$ donde $w=[w_0,w_1,w_2]^T$ y $x=[1,x_1,x_2]^T$. Técnicamente, $x$ tiene tres coordenadas pero llamamos esto perceptrón dos-dimensional porque la primer coordenada está fija en 1.**\n",
        "\\\n",
        "\\\n",
        "**($a$) Muestre que las regiones en el plano donde $h(x)=+1$ y $h(x)=-1$ están separadas por una linea. Si expresamos esta linea por la ecuación $x_2=ax_1+b$, ¿Cuáles son la pendiente $a$ y el intercepto $b$ en términos de $w_0,w_1,w_2$?** \\\n",
        "**RTA:** El $h(x)=-1$ quiere decir que $w^Tx<0$. El caso en que $h(x)=1$ quiere decir que $w^Tx>0$. Esto implica que las regiones en el plano donde $h(x)=+1$ y $h(x)=-1$ están separadas por el plano definido como \n",
        "$$w^Tx=w_0(1)+w_1(x_1)+w_2(x_2)=0.$$\n",
        "Si despejamos $x_2$ tenemos que\n",
        "$$x_2=\\cfrac{-w_1}{w_2}x_1-\\cfrac{-w_0}{w_2}$$\n",
        "Por lo que tenemos que la pendiente $a$ y el intercepto $b$ son:\n",
        "$$a=\\cfrac{-w_1}{w_2}, \\ b=\\cfrac{-w_0}{w_2}.$$\n",
        "\\\n",
        "\\\n",
        "**($b$)  Dibuje una grafica para los casos $w=[1,2,3]^T$ y $w=-[1,2,3]^T$.**\n",
        "\\\n",
        "\\\n",
        "**En más de dos dimensiones, las regiones $+1$ y $-1$ están separadas por un hiperplano, la generalización de una linea.**\n",
        "\n",
        "**RTA:** Notemos que para ambos casos el plano de separación es el mismo ya que si $w^Tx=0$, también $-w^Tx=0$. Sólo que el semiplano superior será la región +1 para el primer caso siendo el semiplano inferior la región -1, mientras que para el segundo caso el semiplano superior será la región -1 y el semiplano inferior la región +1. Veamos el gráfico con el plano de separación dado por la fórmula\n",
        "$$x_2=-\\cfrac{2}{3}x_1-\\cfrac{1}{3}.$$"
      ]
    },
    {
      "cell_type": "code",
      "metadata": {
        "colab": {
          "base_uri": "https://localhost:8080/",
          "height": 723
        },
        "id": "9Qy4EdO12gwk",
        "outputId": "d9fd1453-0ccc-41df-b253-447d39499584"
      },
      "source": [
        "from IPython import display\n",
        "iframe= '<iframe src=\"https://www.desmos.com/calculator/easvyk8ipj?embed\" width=\"700\" height=\"700\" style=\"border: 1px solid #ccc\" frameborder=0></iframe>'\n",
        "display.HTML(iframe)"
      ],
      "execution_count": null,
      "outputs": [
        {
          "output_type": "execute_result",
          "data": {
            "text/html": [
              "<iframe src=\"https://www.desmos.com/calculator/easvyk8ipj?embed\" width=\"700\" height=\"700\" style=\"border: 1px solid #ccc\" frameborder=0></iframe>"
            ],
            "text/plain": [
              "<IPython.core.display.HTML object>"
            ]
          },
          "metadata": {
            "tags": []
          },
          "execution_count": 15
        }
      ]
    },
    {
      "cell_type": "markdown",
      "metadata": {
        "id": "SRBS83l2KJw9"
      },
      "source": [
        "**Problema 1.4**\n",
        "---\n",
        "---\n",
        "**En el ejercicio 1.4, se usó un conjunto de datos artificial para estudiar el algoritmo de aprendizaje del perceptron. Este problema te dirigirá a explorar más a profundidad el algoritmo con conjuntos de datos de diferentes tamaños y dimensiones.**\\\n"
      ]
    },
    {
      "cell_type": "markdown",
      "metadata": {
        "id": "LwsNqXbWSz75"
      },
      "source": [
        "**($a$) Genere un conjunto de datos linealmente separables de tamaño 20 como está indicado en el ejercicio 1.4. Grafique los ejemplos $\\{(x_n,y_n)\\}$ así como la función $f$ en un plano. Marque los ejemplos de las diferentes clases de manera diferenciable y agregue etiquetas a los ejes de la gráfica.**\n",
        "\n",
        "\n",
        "**($b$) Corra el algoritmo de aprendizaje del perceptrón en el conjunto de datos anterior. Reporte el número de actualizaciones del algoritmo antes de converger. Grafique los ejemplos $\\{(x_n,y_n)\\}$, la función objetivo $f$ y la hipótesis final $g$ en la misma gráfica. Comente donde $f$ está más cerca a $g$.**\n",
        "\n",
        "**($c$) Repita todo en $(b)$ con otro conjunto de datos aleatorio de tamaño 20. Compare los resultados con $(b)$.**\n",
        "\n",
        "**($d$) Repita todo en $(b)$ con otro conjunto de datos aleatorio de tamaño 100. Compare los resultados con $(b)$.**\n",
        "\n",
        "**($e$) Repita todo en $(b)$ con otro conjunto de datos aleatorio de tamaño 1000. Compare los resultados con $(b)$.**\n",
        "\n",
        "**($f$) Modifique el algoritmo tal que $x_n\\in R^{10}$ en vez de $R^2$. Genere de manera aleatoria un conjunto de datos linealmente separables de tamaño 1000, con $x_n\\in R^10$ y alimente el algoritmo conjunto de datos. ¿Cuántas actualizaciones hace el algoritmo para converger?**\n",
        "\n",
        "**($g$) Repita el algoritmo en el mismo conjunto de datos en $(f)$ para 100 experimentos. En la iteración de cada experimento escoja una función $x(t)$ de manera aleatoria en vez de manera determinista. Grafique un histograma para el número de actualizaciones para que el algoritmo converja.**\n",
        "\n",
        "**($h$) Concluya respecto a la presición y tiempo de ejecución como una función de $N$ y $d$.**"
      ]
    },
    {
      "cell_type": "code",
      "metadata": {
        "id": "idzsEp-cSy17"
      },
      "source": [
        "#imports\n",
        "import pandas as pd\n",
        "import numpy as np\n",
        "import sklearn\n",
        "import matplotlib.pyplot as plt\n",
        "from scipy.optimize import minimize\n",
        "import math\n",
        "from sklearn.preprocessing import normalize\n",
        "from functools import partial"
      ],
      "execution_count": 27,
      "outputs": []
    },
    {
      "cell_type": "code",
      "metadata": {
        "id": "gY3FsmcGTjEr"
      },
      "source": [
        "#functions\n",
        "def perceptron(points, dim, max_it=100, use_adaline=False, \n",
        "               eta = 1, randomize=False, print_out = True):\n",
        "    print_out=True\n",
        "    w = np.zeros(dim+1)\n",
        "    xs, ys = points[:,:dim+1], points[:,dim+1]\n",
        "    num_points = points.shape[0]\n",
        "    for it in range(max_it):\n",
        "        correctly_predicted_ids=  set()\n",
        "        idxs = np.arange(num_points)\n",
        "        if randomize:\n",
        "            idxs = np.random.choice(np.arange(num_points), num_points, replace=False)\n",
        "        for idx in idxs:\n",
        "            x, y = xs[idx], ys[idx]\n",
        "            st = np.dot(w.T, x)\n",
        "            prod = st*y #np.dot(w.T, x)*y\n",
        "            if prod < -100: #avoid out of bound error\n",
        "                st = -100\n",
        "            threshold = 1 if use_adaline else 0\n",
        "            st = st if use_adaline else 0\n",
        "            if prod <= threshold:\n",
        "                w = w + eta *(y-st)*x\n",
        "                break #PLA picks one example at each iteration\n",
        "            else:\n",
        "                correctly_predicted_ids.add(idx)\n",
        "        if len(correctly_predicted_ids) == num_points:\n",
        "            break\n",
        "    \n",
        "    c = 0\n",
        "    for x, y in zip(xs, ys):\n",
        "        prod = np.dot(w.T, x)*y\n",
        "        if prod > 0:\n",
        "            c +=1\n",
        "    w = w/w[-1]\n",
        "    if print_out:\n",
        "        print('final correctness: ', c, '. Total iteration: ', it)\n",
        "        print('final normalized w:', w)\n",
        "    return w, it\n",
        "\n",
        "\n",
        "def generate_random_numbers(N, dim, num_grid_points, lb, ub):\n",
        "    random_ints = np.random.randint(num_grid_points, size=(N, dim))\n",
        "    zero_to_one_points =  (random_ints)/(num_grid_points - 1)\n",
        "    res = lb + (ub - lb)*zero_to_one_points\n",
        "    return res\n",
        "\n",
        "def generate_random_coeffs(dim):\n",
        "    rn = generate_random_numbers(1, dim, 1000, -10, 10)\n",
        "    return rn\n",
        "\n",
        "def true_f(x, coeffs):\n",
        "    return coeffs.flatten()[0] + np.dot(coeffs.flatten()[1:], x.flatten())\n",
        "\n",
        "def generate_two_classes(N, dim, true_func, rn_func):\n",
        "    cls1, cls2 = [], []\n",
        "    while True:\n",
        "        rn = rn_func(1, dim).flatten()\n",
        "        if true_func(rn) > 0 and len(cls1) < N:\n",
        "            cls1.append(rn)\n",
        "        elif true_func(rn) < 0 and len(cls2) < N:\n",
        "            cls2.append(rn)\n",
        "        if len(cls1) == N and len(cls2) == N:\n",
        "            break\n",
        "    return np.asarray(cls1), np.asarray(cls2)    \n",
        "\n",
        "def generate_df(N, dim,true_func, rn_func):\n",
        "    cls1, cls2 = generate_two_classes(N/2, dim, true_func, rn_func)\n",
        "    cols = ['x' + str(i) for i in range(1, dim+1)]\n",
        "    df1 = pd.DataFrame(cls1, columns=cols)\n",
        "    df1['y'] = 1\n",
        "    df2 = pd.DataFrame(cls2, columns=cols)\n",
        "    df2['y'] = -1\n",
        "    df = pd.concat([df1, df2])\n",
        "    df['x0'] = 1\n",
        "    df = df[['x0'] + cols + ['y']]\n",
        "    return df\n",
        "\n",
        "def plot_data(x1, df, norm_coeffs, norm_g, lb, ub):\n",
        "        figsize = plt.figaspect(1)\n",
        "        f, ax = plt.subplots(1, 1, figsize=figsize)\n",
        "        cls1_df = df.loc[df['y']==1]\n",
        "        cls2_df = df.loc[df['y']==-1]\n",
        "        line = ax.plot(x1, -(norm_coeffs[0]+norm_coeffs[1]*x1), label='True Function')\n",
        "        pluses = ax.scatter(cls1_df[['x1']].values, cls1_df[['x2']].values, marker='+', c= 'r', label='+1 labels')\n",
        "        minuses = ax.scatter(cls2_df[['x1']].values, cls2_df[['x2']].values, marker=r'$-$', c= 'b', label='-1 labels')\n",
        "        if norm_g is not None:\n",
        "            hypothesis = ax.plot(x1, -(norm_g[0]+norm_g[1]*x1), c = 'r', label='Final Hypothesis')\n",
        "\n",
        "        ax.set_ylabel(r\"$x_2$\", fontsize=11)\n",
        "        ax.set_xlabel(r\"$x_1$\", fontsize=11)\n",
        "        ax.set_title('Data set size = %s'%N, fontsize=9)\n",
        "        ax.axis('tight')\n",
        "        legend_x = 2.0\n",
        "        legend_y = 0.5\n",
        "        ax.legend(['True Function', 'Final Hypothesis', \n",
        "                   '+1 labels', '-1 labels', ], \n",
        "                  loc='center right', bbox_to_anchor=(legend_x, legend_y))\n",
        "        #ax.legend(handles=[pluses, minuses], fontsize=9)\n",
        "        ax.set_ylim(bottom=lb, top=ub)\n",
        "        plt.show()\n",
        "        \n",
        "def run_perceptron_experiment(N, dim, lb, ub, num_grid_points, coeff_lb, coeff_ub, \n",
        "                              eta, maxit, use_adaline=False, randomize=False,\n",
        "                              show_plot=True, test_N = 10000):\n",
        "    \n",
        "    rns = generate_random_numbers(N, dim, num_grid_points, lb, ub)\n",
        "    rn_func = partial(generate_random_numbers, num_grid_points = num_grid_points, lb = lb, ub = ub)\n",
        "    coeffs = generate_random_numbers(1, dim+1, num_grid_points, coeff_lb, coeff_ub)\n",
        "    norm_coeffs = coeffs.flatten()/coeffs.flatten()[-1]\n",
        "    true_func = partial(true_f, coeffs = norm_coeffs)\n",
        "    df = generate_df(N, dim, true_func, rn_func)\n",
        "    test_df = generate_df(test_N, dim, true_func, rn_func)\n",
        "    \n",
        "    x1 = np.arange(lb, ub, 0.01)\n",
        "    norm_g, num_its = perceptron(df.values, dim, maxit, use_adaline, \n",
        "                                 eta, randomize, show_plot)\n",
        "    \n",
        "    if show_plot:\n",
        "        print('True coeffs: ', norm_coeffs)\n",
        "        plot_data(x1, df, norm_coeffs, norm_g, lb, ub)\n",
        "    return num_its, norm_g, test_df"
      ],
      "execution_count": 46,
      "outputs": []
    },
    {
      "cell_type": "code",
      "metadata": {
        "id": "sbn2J8YjX7D6",
        "colab": {
          "base_uri": "https://localhost:8080/",
          "height": 345
        },
        "outputId": "453c6232-e10a-44de-dec0-a44c55bea91b"
      },
      "source": [
        "#### problem 1.4 (a)-(c)\n",
        "lb, ub = -100, 100 #rango de los valores del conjunto de datos\n",
        "N, dim = 20, 2 #número de datos y dimensión\n",
        "num_grid_points = 2000 #número máximo de datos en la gráfica\n",
        "coeff_lb, coeff_ub = -10, 10\n",
        "eta = 1\n",
        "maxit = 100\n",
        "use_adaline, randomize =False, False\n",
        "_, _, _ = run_perceptron_experiment(N, dim, lb, ub, num_grid_points,\n",
        "                             coeff_lb, coeff_ub, eta, maxit, use_adaline, randomize)"
      ],
      "execution_count": 47,
      "outputs": [
        {
          "output_type": "stream",
          "text": [
            "final correctness:  20 . Total iteration:  9\n",
            "final normalized w: [0.0585454  1.02928734 1.        ]\n",
            "True coeffs:  [12.40350877  0.92982456  1.        ]\n"
          ],
          "name": "stdout"
        },
        {
          "output_type": "display_data",
          "data": {
            "image/png": "[encoded data removed]",
            "text/plain": [
              "<Figure size 288x288 with 1 Axes>"
            ]
          },
          "metadata": {
            "tags": [],
            "needs_background": "light"
          }
        }
      ]
    },
    {
      "cell_type": "code",
      "metadata": {
        "id": "B3OYqEfAX9vZ",
        "colab": {
          "base_uri": "https://localhost:8080/",
          "height": 345
        },
        "outputId": "910d6977-ef91-4be4-9ec0-ef27d153c959"
      },
      "source": [
        "#### problem 1.4 (d)(e)\n",
        "lb, ub = -100, 100\n",
        "N, dim = 1000, 2\n",
        "num_grid_points = 2000\n",
        "coeff_lb, coeff_ub = -10, 10\n",
        "eta = 1\n",
        "maxit = 2000\n",
        "use_adaline, randomize =False, False\n",
        "_, _, _ = run_perceptron_experiment(N, dim, lb, ub, num_grid_points,\n",
        "                             coeff_lb, coeff_ub, eta, maxit, use_adaline, randomize)"
      ],
      "execution_count": 48,
      "outputs": [
        {
          "output_type": "stream",
          "text": [
            "final correctness:  1000 . Total iteration:  320\n",
            "final normalized w: [0.92814858 1.17382472 1.        ]\n",
            "True coeffs:  [1.00727273 1.16242424 1.        ]\n"
          ],
          "name": "stdout"
        },
        {
          "output_type": "display_data",
          "data": {
            "image/png": "[encoded data removed]",
            "text/plain": [
              "<Figure size 288x288 with 1 Axes>"
            ]
          },
          "metadata": {
            "tags": [],
            "needs_background": "light"
          }
        }
      ]
    },
    {
      "cell_type": "code",
      "metadata": {
        "id": "qhhivHz5X_6I",
        "colab": {
          "base_uri": "https://localhost:8080/"
        },
        "outputId": "3e7c92e5-007d-4ec0-d42c-1520fd57c2b4"
      },
      "source": [
        "#### problem 1.4 (f)\n",
        "lb, ub = -100, 100\n",
        "N, dim = 1000, 10 \n",
        "num_grid_points = 2000\n",
        "coeff_lb, coeff_ub = -10, 10\n",
        "eta = 1\n",
        "maxit = 50000\n",
        "use_adaline, randomize =False, False\n",
        "_, _, _ = run_perceptron_experiment(N, dim, lb, ub, num_grid_points,\n",
        "                                 coeff_lb, coeff_ub, eta, maxit, use_adaline, randomize, show_plot=False)"
      ],
      "execution_count": 49,
      "outputs": [
        {
          "output_type": "stream",
          "text": [
            "final correctness:  1000 . Total iteration:  6360\n",
            "final normalized w: [ 0.83357065  0.70936743 -0.68174991 -0.02739562  0.1342983   0.44746185\n",
            "  0.65469566 -0.45613286 -0.81898406 -0.36918376  1.        ]\n"
          ],
          "name": "stdout"
        }
      ]
    },
    {
      "cell_type": "code",
      "metadata": {
        "id": "SipWs8ViYCno",
        "colab": {
          "base_uri": "https://localhost:8080/",
          "height": 333
        },
        "outputId": "15ffaced-058e-4918-faac-ebc4e084d7ef"
      },
      "source": [
        "#### problem 1.4 (g)\n",
        "lb, ub = -100, 100\n",
        "N, dim = 1000, 10 \n",
        "num_grid_points = 2000\n",
        "coeff_lb, coeff_ub = -10, 10\n",
        "eta = 1\n",
        "maxit = 50000\n",
        "use_adaline, randomize =False, True\n",
        "show_plot = False\n",
        "num_iterations = []\n",
        "for it in range(100):\n",
        "    #print('Working on experiment: ', it)\n",
        "    num_it, _, _ = run_perceptron_experiment(N, dim, lb, ub, num_grid_points,\n",
        "                                     coeff_lb, coeff_ub, eta, maxit, use_adaline, randomize,\n",
        "                                      show_plot)\n",
        "    num_iterations.append(num_it)\n",
        "    \n",
        "plt.hist(num_iterations)"
      ],
      "execution_count": 34,
      "outputs": [
        {
          "output_type": "execute_result",
          "data": {
            "text/plain": [
              "(array([25., 34., 21., 11.,  4.,  3.,  0.,  1.,  0.,  1.]),\n",
              " array([  612. ,  3085.2,  5558.4,  8031.6, 10504.8, 12978. , 15451.2,\n",
              "        17924.4, 20397.6, 22870.8, 25344. ]),\n",
              " <a list of 10 Patch objects>)"
            ]
          },
          "metadata": {
            "tags": []
          },
          "execution_count": 34
        },
        {
          "output_type": "display_data",
          "data": {
            "image/png": "[encoded data removed]",
            "text/plain": [
              "<Figure size 432x288 with 1 Axes>"
            ]
          },
          "metadata": {
            "tags": [],
            "needs_background": "light"
          }
        }
      ]
    },
    {
      "cell_type": "markdown",
      "metadata": {
        "id": "VciFleANC-vY"
      },
      "source": [
        "**Problema 1.6**\n",
        "---\n",
        "---\n",
        "**Considere una muestra de 10 canicas extraídas independientemente de una papelera que contiene canicas rojas y verdes. La probabilidad de una canica roja es $\\mu$. Para $\\mu=0.05, \\mu=0.5$ y $\\mu=0.8$ compute la probabilidad de no obtener canicas rojas $(v=0)$ en los siguientes casos.**\\\n",
        "\\\n",
        "\\\n",
        "**($a$) Extraemos únicamente una sola muestra (de 10 canicas). Compute la probabilidad de que $v=0$.**\\\n",
        "**RTA: Para cada canica extraída la probabilidad de que no sea roja es $1-\\mu$, por lo que la probabilidad de no obtener una canica roja al extraer 10 canicas esta dada por la siguiente expresión.**\n",
        "$$P(v=0)=(1-\\mu)^10.$$\n",
        "Calculemos las probabilidades variando $\\mu$. "
      ]
    },
    {
      "cell_type": "code",
      "metadata": {
        "colab": {
          "base_uri": "https://localhost:8080/"
        },
        "id": "vx4XOg94riKS",
        "outputId": "00b3120a-8c4f-4a8d-ab77-5073175e4c51"
      },
      "source": [
        "def proba(mu):\n",
        "  return print('para mu = '+ str(mu)+ ' : ',(1-mu)**10)\n",
        "\n",
        "#para \\mu = 0.05\n",
        "proba(0.05)\n",
        "\n",
        "#para \\mu = 0.5\n",
        "proba(0.5)\n",
        "\n",
        "#para \\mu = 0.8\n",
        "proba(0.8)"
      ],
      "execution_count": null,
      "outputs": [
        {
          "output_type": "stream",
          "text": [
            "para mu = 0.05 :  0.5987369392383787\n",
            "para mu = 0.5 :  0.0009765625\n",
            "para mu = 0.8 :  1.0239999999999978e-07\n"
          ],
          "name": "stdout"
        }
      ]
    },
    {
      "cell_type": "markdown",
      "metadata": {
        "id": "NlgcgyqrriXi"
      },
      "source": [
        "**($b$) Extraemos independientemente 1000 muestras. Compute la probabilidad de que (por lo menos) una de las muestras tenga $v=0$.**\\\n",
        "**RTA:** La probabilidad $P$ será igual a 1 menos la probabilidad de que todas las muestras tengan $v>0$ que a su vez se puede calcular como 1 menos la probabilidad de que cada muestra tenga $v=0$. Teniendo en cuenta que son 1000 muestras, podemos expresar $P$ como\n",
        "$$P=1-(1-(1-\\mu)^{10})^{1000}.$$\n",
        "Calculemos esta probabilidad para los distintos valores de $\\mu$."
      ]
    },
    {
      "cell_type": "code",
      "metadata": {
        "colab": {
          "base_uri": "https://localhost:8080/"
        },
        "id": "cJ-SUPUVsv0T",
        "outputId": "6e95e782-1d53-48f7-c52e-22e385b7d667"
      },
      "source": [
        "def proba2(mu, num_of_samples):\n",
        "  return print('para mu = '+ str(mu)+ ' : ', 1-(1-(1-mu)**10)**num_of_samples)\n",
        "\n",
        "#para \\mu = 0.05\n",
        "proba2(0.05,1000)\n",
        "\n",
        "#para \\mu = 0.5\n",
        "proba2(0.5,1000)\n",
        "\n",
        "#para \\mu = 0.8\n",
        "proba2(0.8,1000)"
      ],
      "execution_count": null,
      "outputs": [
        {
          "output_type": "stream",
          "text": [
            "para mu = 0.05 :  1.0\n",
            "para mu = 0.5 :  0.623576201943276\n",
            "para mu = 0.8 :  0.00010239476257623004\n"
          ],
          "name": "stdout"
        }
      ]
    },
    {
      "cell_type": "markdown",
      "metadata": {
        "id": "qMgpTnjHsv8J"
      },
      "source": [
        "**($c$) Repita $(b)$ para 1000000 muestras independientes.**"
      ]
    },
    {
      "cell_type": "code",
      "metadata": {
        "colab": {
          "base_uri": "https://localhost:8080/"
        },
        "id": "bWGvZY2Gu0E4",
        "outputId": "27b063af-bed9-4cde-b818-51d2a51950d8"
      },
      "source": [
        "#para \\mu = 0.05\n",
        "proba2(0.05,1000000)\n",
        "\n",
        "#para \\mu = 0.5\n",
        "proba2(0.5,1000000)\n",
        "\n",
        "#para \\mu = 0.8\n",
        "proba2(0.8,1000000)"
      ],
      "execution_count": null,
      "outputs": [
        {
          "output_type": "stream",
          "text": [
            "para mu = 0.05 :  1.0\n",
            "para mu = 0.5 :  1.0\n",
            "para mu = 0.8 :  0.09733159268316072\n"
          ],
          "name": "stdout"
        }
      ]
    },
    {
      "cell_type": "markdown",
      "metadata": {
        "id": "buACK2j2o81Z"
      },
      "source": [
        "**Problema 1.12**\n",
        "---\n",
        "---\n",
        "**Este problema investiga como cambiar la medida de error puede cambiar el resultado del proceso de aprendizaje. Usted tiene $N$ puntos de datos $y_1\\leq y_2...\\leq y_N$ y desea estimar un valor representativo.**\\\n",
        "\\\n",
        "\\\n",
        "**($a$) Si su algoritmo halla la hipótesis $h$ que minimiza la suma $in-sample$ de las desviaciones cuadradas,**\n",
        "$$E_{in}(h)=\\sum_{n=1}^N(h-y_n)^2,$$\n",
        "**entonces muestre que su estimado estará en la media del $in-sample$,**\n",
        "$$h_{mean}=\\cfrac{1}{N}\\sum_{n=1}^Ny_n.$$\n",
        "\n",
        "**RTA:** Para encontrar la hipótesis $h$ mínima, derivamos la función $E_{in}$ para encontrar el valor mínimo de la función igualando a 0.\n",
        "\n",
        "$$\\cfrac{dE_{in}(h)}{dh}=2\\sum_{n=1}^N(h-y_n)=0$$\n",
        "$$\\sum_{n=1}^N(h-y_n)=0$$\n",
        "$$\\sum_{n=1}^N(h)=\\sum_{n=1}^N(y_n)$$\n",
        "$$h\\cdot N=\\sum_{n=1}^N(y_n)$$\n",
        "$$h=\\cfrac{1}{N}\\sum_{n=1}^N(y_n)=h_{mean}$$\n",
        "\n",
        "Notemos que en efecto $h$ es un mínimo.\n",
        "$$\\cfrac{d^2E_{in}(h)}{d^2h}=2N>0.$$\n",
        "Es decir, el estimado $h$ está en la media.\\\n",
        "\\\n",
        "\\\n",
        "**($b$) Si su algoritmo encuentra una hipótesis $h$ que minimiza la suma de las desviaciones absolutas,**\n",
        "$$E_{in}(h)=\\sum_{n=1}^N|h-y_n|,$$\n",
        "**muestre que su estimado estará en la media $h_{med}$, que es cualquier valor por el cual la mitad de los datos es a lo mucho $h_{med}$ y la otra mitad de los datos es por lo menos $h_{med}$.**\\\n",
        "**RTA:** Igual que en el punto anterior, derivamos la función $E_{in}(h)$ e igualamos a 0.\n",
        "$$\\cfrac{dE_{in}(h)}{dh}=\\sum_{n=1}^N sgn(h-y_n)=0.$$\n",
        "Claramente la derivada será igual a 0 si hay tantos valores positivos como los hay de negativos, es decir, hay tantos valores $y_n$ por encima de $h$ como por debajo de $h$ por lo que $h=h_{med}$.\n",
        "\\\n",
        "\\\n",
        "**($c$) Suponga que $y_N$ es perturbado a $y_N+\\epsilon$ donde $\\epsilon \\to \\infty$. Así, el dato $y_N$ se convierte en un punto aislado. ¿Qué pasa con sus dos estimaciones $h_{mean}$ y $h_{med}$?**\\\n",
        "**RTA:** Notemos que si $y_N\\to\\infty$,\n",
        "$$h_{mean}=\\cfrac{1}{N}\\sum_{n=1}^N(y_n)\\to \\infty$$\n",
        "pero como $y_N\\geq y_n$ para todo $n$, es claro que $y_N\\geq h_{med}$ por lo que $h_{med}$ se mantiene igual.\n"
      ]
    }
  ]
}